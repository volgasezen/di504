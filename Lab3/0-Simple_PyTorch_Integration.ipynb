{
  "cells": [
    {
      "cell_type": "markdown",
      "metadata": {
        "id": "qBNyRoPrQM76"
      },
      "source": [
        "<a href=\"https://colab.research.google.com/github/wandb/examples/blob/master/colabs/pytorch/Simple_PyTorch_Integration.ipynb\" target=\"_parent\"><img src=\"https://colab.research.google.com/assets/colab-badge.svg\" alt=\"Open In Colab\"/></a>\n",
        "<!--- @wandbcode{pytorch-video} -->"
      ]
    },
    {
      "cell_type": "markdown",
      "metadata": {
        "id": "KcfQ5jZlQM77"
      },
      "source": [
        "<img src=\"http://wandb.me/logo-im-png\" width=\"400\" alt=\"Weights & Biases\" />\n",
        "\n",
        "<!--- @wandbcode{pytorch-video} -->\n"
      ]
    },
    {
      "cell_type": "markdown",
      "metadata": {
        "id": "VhQfqSILQM77"
      },
      "source": [
        "# 🔥 = W&B ➕ PyTorch"
      ]
    },
    {
      "cell_type": "markdown",
      "metadata": {
        "id": "O5RMcnGhQM78"
      },
      "source": [
        "\n",
        "Use [Weights & Biases](https://wandb.com) for machine learning experiment tracking, dataset versioning, and project collaboration.\n",
        "\n",
        "<div><img /></div>\n",
        "\n",
        "<img src=\"https://wandb.me/mini-diagram\" width=\"650\" alt=\"Weights & Biases\" />\n",
        "\n",
        "<div><img /></div>\n",
        "\n"
      ]
    },
    {
      "cell_type": "markdown",
      "metadata": {
        "id": "JXEOQdWpQM78"
      },
      "source": [
        "\n",
        "## What this notebook covers:\n",
        "\n",
        "We show you how to integrate Weights & Biases with your PyTorch code to add experiment tracking to your pipeline.\n",
        "\n",
        "## The resulting interactive W&B dashboard will look like:\n",
        "![](https://i.imgur.com/z8TK2Et.png)\n",
        "\n",
        "## In pseudocode, what we'll do is:\n",
        "```python\n",
        "# import the library\n",
        "import wandb\n",
        "\n",
        "# start a new experiment\n",
        "wandb.init(project=\"new-sota-model\")\n",
        "\n",
        "# capture a dictionary of hyperparameters with config\n",
        "wandb.config = {\"learning_rate\": 0.001, \"epochs\": 100, \"batch_size\": 128}\n",
        "\n",
        "# set up model and data\n",
        "model, dataloader = get_model(), get_data()\n",
        "\n",
        "# optional: track gradients\n",
        "wandb.watch(model)\n",
        "\n",
        "for batch in dataloader:\n",
        "  metrics = model.training_step()\n",
        "  # log metrics inside your training loop to visualize model performance\n",
        "  wandb.log(metrics)\n",
        "\n",
        "# optional: save model at the end\n",
        "model.to_onnx()\n",
        "wandb.save(\"model.onnx\")\n",
        "```"
      ]
    },
    {
      "cell_type": "markdown",
      "metadata": {
        "id": "jhzvpJagQM79"
      },
      "source": [
        "\n",
        "\n",
        "## Follow along with a [video tutorial](http://wandb.me/pytorch-video)!\n",
        "**Note**: Sections starting with _Step_ are all you need to integrate W&B in an existing pipeline. The rest just loads data and defines a model."
      ]
    },
    {
      "cell_type": "markdown",
      "metadata": {
        "id": "mUcvUwZcQM79"
      },
      "source": [
        "# 🚀 Install, Import, and Log In"
      ]
    },
    {
      "cell_type": "markdown",
      "metadata": {
        "id": "nlwi3rweQM79"
      },
      "source": [
        "### 0️⃣ Step 0: Install W&B"
      ]
    },
    {
      "cell_type": "markdown",
      "metadata": {
        "id": "Ss0lVbw4QM79"
      },
      "source": [
        "To get started, we'll need to get the library.\n",
        "`wandb` is easily installed using `pip`."
      ]
    },
    {
      "cell_type": "code",
      "execution_count": null,
      "metadata": {
        "id": "wDzhNPiOQM7-"
      },
      "outputs": [],
      "source": [
        "!pip install wandb onnx -Uq"
      ]
    },
    {
      "cell_type": "code",
      "execution_count": 1,
      "metadata": {
        "id": "jBmLn14bQM7_"
      },
      "outputs": [],
      "source": [
        "import os\n",
        "import random\n",
        "\n",
        "import numpy as np\n",
        "import torch\n",
        "import torch.nn as nn\n",
        "import torchvision\n",
        "import torchvision.transforms as transforms\n",
        "from tqdm.auto import tqdm\n",
        "\n",
        "# Ensure deterministic behavior\n",
        "torch.backends.cudnn.deterministic = True\n",
        "random.seed(hash(\"setting random seeds\") % 2**32 - 1)\n",
        "np.random.seed(hash(\"improves reproducibility\") % 2**32 - 1)\n",
        "torch.manual_seed(hash(\"by removing stochasticity\") % 2**32 - 1)\n",
        "torch.cuda.manual_seed_all(hash(\"so runs are repeatable\") % 2**32 - 1)\n",
        "\n",
        "# Device configuration\n",
        "device = torch.device(\"cuda:0\" if torch.cuda.is_available() else \"cpu\")\n",
        "\n",
        "# remove slow mirror from list of MNIST mirrors\n",
        "torchvision.datasets.MNIST.mirrors = [mirror for mirror in torchvision.datasets.MNIST.mirrors\n",
        "                                      if not mirror.startswith(\"http://yann.lecun.com\")]"
      ]
    },
    {
      "cell_type": "markdown",
      "metadata": {
        "id": "rihnsyQ_QM7_"
      },
      "source": [
        "### 1️⃣ Step 1: Import W&B and Login"
      ]
    },
    {
      "cell_type": "markdown",
      "metadata": {
        "id": "XGQW0QIVQM8A"
      },
      "source": [
        "In order to log data to our web service,\n",
        "you'll need to log in.\n",
        "\n",
        "If this is your first time using W&B,\n",
        "you'll need to sign up for a free account at the link that appears."
      ]
    },
    {
      "cell_type": "code",
      "execution_count": 2,
      "metadata": {
        "id": "qYl2TDerQM8A"
      },
      "outputs": [],
      "source": [
        "import wandb"
      ]
    },
    {
      "cell_type": "code",
      "execution_count": 3,
      "metadata": {
        "id": "0y0IZOWdQM8B"
      },
      "outputs": [
        {
          "name": "stderr",
          "output_type": "stream",
          "text": [
            "Failed to detect the name of this notebook, you can set it manually with the WANDB_NOTEBOOK_NAME environment variable to enable code saving.\n",
            "\u001b[34m\u001b[1mwandb\u001b[0m: Currently logged in as: \u001b[33mvolgas\u001b[0m (\u001b[33mmaestros\u001b[0m). Use \u001b[1m`wandb login --relogin`\u001b[0m to force relogin\n"
          ]
        },
        {
          "data": {
            "text/plain": [
              "True"
            ]
          },
          "execution_count": 3,
          "metadata": {},
          "output_type": "execute_result"
        }
      ],
      "source": [
        "wandb.login()"
      ]
    },
    {
      "cell_type": "markdown",
      "metadata": {
        "id": "tgvndscKQM8B"
      },
      "source": [
        "# 👩‍🔬 Define the Experiment and Pipeline"
      ]
    },
    {
      "cell_type": "markdown",
      "metadata": {
        "id": "zCWdoblfQM8B"
      },
      "source": [
        "## 2️⃣ Step 2: Track metadata and hyperparameters with `wandb.init`"
      ]
    },
    {
      "cell_type": "markdown",
      "metadata": {
        "id": "5qRm7MvaQM8B"
      },
      "source": [
        "Programmatically, the first thing we do is define our experiment:\n",
        "what are the hyperparameters? what metadata is associated with this run?\n",
        "\n",
        "It's a pretty common workflow to store this information in a `config` dictionary\n",
        "(or similar object)\n",
        "and then access it as needed.\n",
        "\n",
        "For this example, we're only letting a few hyperparameters vary\n",
        "and hand-coding the rest.\n",
        "But any part of your model can be part of the `config`!\n",
        "\n",
        "We also include some metadata: we're using the MNIST dataset and a convolutional\n",
        "architecture. If we later work with, say,\n",
        "fully-connected architectures on CIFAR in the same project,\n",
        "this will help us separate our runs."
      ]
    },
    {
      "cell_type": "code",
      "execution_count": 4,
      "metadata": {
        "id": "r9EvUSj7QM8C"
      },
      "outputs": [],
      "source": [
        "config = dict(\n",
        "    epochs=5,\n",
        "    classes=10,\n",
        "    kernels=[16, 32],\n",
        "    batch_size=128,\n",
        "    learning_rate=0.005,\n",
        "    dataset=\"MNIST\",\n",
        "    architecture=\"CNN\")"
      ]
    },
    {
      "cell_type": "markdown",
      "metadata": {
        "id": "FVezzQUXQM8C"
      },
      "source": [
        "Now, let's define the overall pipeline,\n",
        "which is pretty typical for model-training:\n",
        "\n",
        "1. we first `make` a model, plus associated data and optimizer, then\n",
        "2. we `train` the model accordingly and finally\n",
        "3. `test` it to see how training went.\n",
        "\n",
        "We'll implement these functions below."
      ]
    },
    {
      "cell_type": "code",
      "execution_count": 5,
      "metadata": {
        "id": "9kIO4I82QM8C"
      },
      "outputs": [],
      "source": [
        "def model_pipeline(hyperparameters):\n",
        "\n",
        "    # tell wandb to get started\n",
        "    with wandb.init(project=\"pytorch-demo\", config=hyperparameters):\n",
        "      # access all HPs through wandb.config, so logging matches execution!\n",
        "      config = wandb.config\n",
        "\n",
        "      # make the model, data, and optimization problem\n",
        "      model, train_loader, test_loader, criterion, optimizer = make(config)\n",
        "      print(model)\n",
        "\n",
        "      # and use them to train the model\n",
        "      train(model, train_loader, criterion, optimizer, config)\n",
        "\n",
        "      # and test its final performance\n",
        "      test(model, test_loader)\n",
        "\n",
        "    return model"
      ]
    },
    {
      "cell_type": "markdown",
      "metadata": {
        "id": "a7hJr0WZQM8C"
      },
      "source": [
        "The only difference here from a standard pipeline\n",
        "is that it all occurs inside the context of `wandb.init`.\n",
        "Calling this function sets up a line of communication\n",
        "between your code and our servers.\n",
        "\n",
        "Passing the `config` dictionary to `wandb.init`\n",
        "immediately logs all that information to us,\n",
        "so you'll always know what hyperparameter values\n",
        "you set your experiment to use.\n",
        "\n",
        "To ensure the values you chose and logged are always the ones that get used\n",
        "in your model, we recommend using the `wandb.config` copy of your object.\n",
        "Check the definition of `make` below to see some examples.\n",
        "\n",
        "> *Side Note*: We take care to run our code in separate processes,\n",
        "so that any issues on our end\n",
        "(e.g. a giant sea monster attacks our data centers)\n",
        "don't crash your code.\n",
        "Once the issue is resolved (e.g. the Kraken returns to the deep)\n",
        "you can log the data with `wandb sync`."
      ]
    },
    {
      "cell_type": "code",
      "execution_count": 6,
      "metadata": {
        "id": "2SdFP5rfQM8C"
      },
      "outputs": [],
      "source": [
        "def make(config):\n",
        "    # Make the data\n",
        "    train, test = get_data(train=True), get_data(train=False)\n",
        "    train_loader = make_loader(train, batch_size=config.batch_size)\n",
        "    test_loader = make_loader(test, batch_size=config.batch_size)\n",
        "\n",
        "    # Make the model\n",
        "    model = ConvNet(config.kernels, config.classes).to(device)\n",
        "\n",
        "    # Make the loss and optimizer\n",
        "    criterion = nn.CrossEntropyLoss()\n",
        "    optimizer = torch.optim.Adam(\n",
        "        model.parameters(), lr=config.learning_rate)\n",
        "\n",
        "    return model, train_loader, test_loader, criterion, optimizer"
      ]
    },
    {
      "cell_type": "markdown",
      "metadata": {
        "id": "bflLbTYGQM8C"
      },
      "source": [
        "# 📡 Define the Data Loading and Model"
      ]
    },
    {
      "cell_type": "markdown",
      "metadata": {
        "id": "DZs83XtVQM8D"
      },
      "source": [
        "Now, we need to specify how the data is loaded and what the model looks like.\n",
        "\n",
        "This part is very important, but it's\n",
        "no different from what it would be without `wandb`,\n",
        "so we won't dwell on it."
      ]
    },
    {
      "cell_type": "code",
      "execution_count": 7,
      "metadata": {
        "id": "ENu5pR_yQM8D"
      },
      "outputs": [],
      "source": [
        "def get_data(slice=5, train=True):\n",
        "    full_dataset = torchvision.datasets.MNIST(root=\".\",\n",
        "                                              train=train,\n",
        "                                              transform=transforms.ToTensor(),\n",
        "                                              download=True)\n",
        "    #  equiv to slicing with [::slice]\n",
        "    sub_dataset = torch.utils.data.Subset(\n",
        "      full_dataset, indices=range(0, len(full_dataset), slice))\n",
        "\n",
        "    return sub_dataset\n",
        "\n",
        "\n",
        "def make_loader(dataset, batch_size):\n",
        "    loader = torch.utils.data.DataLoader(dataset=dataset,\n",
        "                                         batch_size=batch_size,\n",
        "                                         shuffle=True,\n",
        "                                         pin_memory=True, num_workers=2)\n",
        "    return loader"
      ]
    },
    {
      "cell_type": "markdown",
      "metadata": {
        "id": "etFxIGZgQM8D"
      },
      "source": [
        "Defining the model is normally the fun part!\n",
        "\n",
        "But nothing changes with `wandb`,\n",
        "so we're gonna stick with a standard ConvNet architecture.\n",
        "\n",
        "Don't be afraid to mess around with this and try some experiments --\n",
        "all your results will be logged on [wandb.ai](https://wandb.ai)!\n",
        "\n"
      ]
    },
    {
      "cell_type": "code",
      "execution_count": 8,
      "metadata": {
        "id": "PMp1FtFwQM8D"
      },
      "outputs": [],
      "source": [
        "# Conventional and convolutional neural network\n",
        "\n",
        "class ConvNet(nn.Module):\n",
        "    def __init__(self, kernels, classes=10):\n",
        "        super(ConvNet, self).__init__()\n",
        "\n",
        "        self.layer1 = nn.Sequential(\n",
        "            nn.Conv2d(1, kernels[0], kernel_size=5, stride=1, padding=2),\n",
        "            nn.ReLU(),\n",
        "            nn.MaxPool2d(kernel_size=2, stride=2))\n",
        "        self.layer2 = nn.Sequential(\n",
        "            nn.Conv2d(16, kernels[1], kernel_size=5, stride=1, padding=2),\n",
        "            nn.ReLU(),\n",
        "            nn.MaxPool2d(kernel_size=2, stride=2))\n",
        "        self.fc = nn.Linear(7 * 7 * kernels[-1], classes)\n",
        "\n",
        "    def forward(self, x):\n",
        "        out = self.layer1(x)\n",
        "        out = self.layer2(out)\n",
        "        out = out.reshape(out.size(0), -1)\n",
        "        out = self.fc(out)\n",
        "        return out"
      ]
    },
    {
      "cell_type": "markdown",
      "metadata": {
        "id": "gLxkPcnkQM8D"
      },
      "source": [
        "# 👟 Define Training Logic"
      ]
    },
    {
      "cell_type": "markdown",
      "metadata": {
        "id": "NCiRYoe5QM8D"
      },
      "source": [
        "Moving on in our `model_pipeline`, it's time to specify how we `train`.\n",
        "\n",
        "Two `wandb` functions come into play here: `watch` and `log`."
      ]
    },
    {
      "cell_type": "markdown",
      "metadata": {
        "id": "a3FkzjZwQM8D"
      },
      "source": [
        "### 3️⃣ Step 3. Track gradients with `wandb.watch` and everything else with `wandb.log`"
      ]
    },
    {
      "cell_type": "markdown",
      "metadata": {
        "id": "KMFtdMyoQM8D"
      },
      "source": [
        "`wandb.watch` will log the gradients and the parameters of your model,\n",
        "every `log_freq` steps of training.\n",
        "\n",
        "All you need to do is call it before you start training.\n",
        "\n",
        "The rest of the training code remains the same:\n",
        "we iterate over epochs and batches,\n",
        "running forward and backward passes\n",
        "and applying our `optimizer`."
      ]
    },
    {
      "cell_type": "code",
      "execution_count": 9,
      "metadata": {
        "id": "ZireWrKaQM8E"
      },
      "outputs": [],
      "source": [
        "def train(model, loader, criterion, optimizer, config):\n",
        "    # Tell wandb to watch what the model gets up to: gradients, weights, and more!\n",
        "    wandb.watch(model, criterion, log=\"all\", log_freq=10)\n",
        "\n",
        "    # Run training and track with wandb\n",
        "    total_batches = len(loader) * config.epochs\n",
        "    example_ct = 0  # number of examples seen\n",
        "    batch_ct = 0\n",
        "    for epoch in tqdm(range(config.epochs)):\n",
        "        for _, (images, labels) in enumerate(loader):\n",
        "\n",
        "            loss = train_batch(images, labels, model, optimizer, criterion)\n",
        "            example_ct +=  len(images)\n",
        "            batch_ct += 1\n",
        "\n",
        "            # Report metrics every 25th batch\n",
        "            if ((batch_ct + 1) % 25) == 0:\n",
        "                train_log(loss, example_ct, epoch)\n",
        "\n",
        "\n",
        "def train_batch(images, labels, model, optimizer, criterion):\n",
        "    images, labels = images.to(device), labels.to(device)\n",
        "\n",
        "    # Forward pass ➡\n",
        "    outputs = model(images)\n",
        "    loss = criterion(outputs, labels)\n",
        "\n",
        "    # Backward pass ⬅\n",
        "    optimizer.zero_grad()\n",
        "    loss.backward()\n",
        "\n",
        "    # Step with optimizer\n",
        "    optimizer.step()\n",
        "\n",
        "    return loss"
      ]
    },
    {
      "cell_type": "markdown",
      "metadata": {
        "id": "YdGr5xnVQM8E"
      },
      "source": [
        "The only difference is in the logging code:\n",
        "where previously you might have reported metrics by printing to the terminal,\n",
        "now you pass the same information to `wandb.log`.\n",
        "\n",
        "`wandb.log` expects a dictionary with strings as keys.\n",
        "These strings identify the objects being logged, which make up the values.\n",
        "You can also optionally log which `step` of training you're on.\n",
        "\n",
        "> *Side Note*: I like to use the number of examples the model has seen,\n",
        "since this makes for easier comparison across batch sizes,\n",
        "but you can use raw steps or batch count. For longer training runs, it can also make sense to log by `epoch`."
      ]
    },
    {
      "cell_type": "code",
      "execution_count": 10,
      "metadata": {
        "id": "2Sjs1NPGQM8E"
      },
      "outputs": [],
      "source": [
        "def train_log(loss, example_ct, epoch):\n",
        "    # Where the magic happens\n",
        "    wandb.log({\"epoch\": epoch, \"loss\": loss}, step=example_ct)\n",
        "    print(f\"Loss after {str(example_ct).zfill(5)} examples: {loss:.3f}\")"
      ]
    },
    {
      "cell_type": "markdown",
      "metadata": {
        "id": "4RBvbiL_QM8E"
      },
      "source": [
        "# 🧪 Define Testing Logic"
      ]
    },
    {
      "cell_type": "markdown",
      "metadata": {
        "id": "DSPbuBIJQM8E"
      },
      "source": [
        "Once the model is done training, we want to test it:\n",
        "run it against some fresh data from production, perhaps,\n",
        "or apply it to some hand-curated \"hard examples\".\n",
        "\n"
      ]
    },
    {
      "cell_type": "markdown",
      "metadata": {
        "id": "jKuE1mu1QM8F"
      },
      "source": [
        "#### 4️⃣ Optional Step 4: Call `wandb.save`\n",
        "\n",
        "This is also a great time to save the model's architecture\n",
        "and final parameters to disk.\n",
        "For maximum compatibility, we'll `export` our model in the\n",
        "[Open Neural Network eXchange (ONNX) format](https://onnx.ai/).\n",
        "\n",
        "Passing that filename to `wandb.save` ensures that the model parameters\n",
        "are saved to W&B's servers: no more losing track of which `.h5` or `.pb`\n",
        "corresponds to which training runs!\n",
        "\n",
        "For more advanced `wandb` features for storing, versioning, and distributing\n",
        "models, check out our [Artifacts tools](https://www.wandb.com/artifacts)."
      ]
    },
    {
      "cell_type": "code",
      "execution_count": 11,
      "metadata": {
        "id": "cwSE5JZAQM8F"
      },
      "outputs": [],
      "source": [
        "def test(model, test_loader):\n",
        "    model.eval()\n",
        "\n",
        "    # Run the model on some test examples\n",
        "    with torch.no_grad():\n",
        "        correct, total = 0, 0\n",
        "        for images, labels in test_loader:\n",
        "            images, labels = images.to(device), labels.to(device)\n",
        "            outputs = model(images)\n",
        "            _, predicted = torch.max(outputs.data, 1)\n",
        "            total += labels.size(0)\n",
        "            correct += (predicted == labels).sum().item()\n",
        "\n",
        "        print(f\"Accuracy of the model on the {total} \" +\n",
        "              f\"test images: {correct / total:%}\")\n",
        "\n",
        "        wandb.log({\"test_accuracy\": correct / total})\n",
        "\n",
        "    # Save the model in the exchangeable ONNX format\n",
        "    torch.onnx.export(model, images, \"model.onnx\")\n",
        "    wandb.save(\"model.onnx\")"
      ]
    },
    {
      "cell_type": "markdown",
      "metadata": {
        "id": "C9IoJHHPQM8F"
      },
      "source": [
        "# 🏃‍♀️ Run training and watch your metrics live on wandb.ai!"
      ]
    },
    {
      "cell_type": "markdown",
      "metadata": {
        "id": "nCmmDYXOQM8F"
      },
      "source": [
        "Now that we've defined the whole pipeline and slipped in\n",
        "those few lines of W&B code,\n",
        "we're ready to run our fully-tracked experiment.\n",
        "\n",
        "We'll report a few links to you:\n",
        "our documentation,\n",
        "the Project page, which organizes all the runs in a project, and\n",
        "the Run page, where this run's results will be stored.\n",
        "\n",
        "Navigate to the Run page and check out these tabs:\n",
        "\n",
        "1. **Charts**, where the model gradients, parameter values, and loss are logged throughout training\n",
        "2. **System**, which contains a variety of system metrics, including Disk I/O utilization, CPU and GPU metrics (watch that temperature soar 🔥), and more\n",
        "3. **Logs**, which has a copy of anything pushed to standard out during training\n",
        "4. **Files**, where, once training is complete, you can click on the `model.onnx` to view our network with the [Netron model viewer](https://github.com/lutzroeder/netron).\n",
        "\n",
        "Once the run in finished\n",
        "(i.e. the `with wandb.init` block is exited),\n",
        "we'll also print a summary of the results in the cell output."
      ]
    },
    {
      "cell_type": "code",
      "execution_count": 12,
      "metadata": {
        "id": "s4WBO_3KQM8F"
      },
      "outputs": [
        {
          "data": {
            "text/html": [
              "Tracking run with wandb version 0.16.2"
            ],
            "text/plain": [
              "<IPython.core.display.HTML object>"
            ]
          },
          "metadata": {},
          "output_type": "display_data"
        },
        {
          "data": {
            "text/html": [
              "Run data is saved locally in <code>c:\\Users\\speed\\Documents\\#DI504\\Lab3 wandb\\wandb\\run-20240113_223537-64mxykit</code>"
            ],
            "text/plain": [
              "<IPython.core.display.HTML object>"
            ]
          },
          "metadata": {},
          "output_type": "display_data"
        },
        {
          "data": {
            "text/html": [
              "Syncing run <strong><a href='https://wandb.ai/maestros/pytorch-demo/runs/64mxykit' target=\"_blank\">stellar-hill-1</a></strong> to <a href='https://wandb.ai/maestros/pytorch-demo' target=\"_blank\">Weights & Biases</a> (<a href='https://wandb.me/run' target=\"_blank\">docs</a>)<br/>"
            ],
            "text/plain": [
              "<IPython.core.display.HTML object>"
            ]
          },
          "metadata": {},
          "output_type": "display_data"
        },
        {
          "data": {
            "text/html": [
              " View project at <a href='https://wandb.ai/maestros/pytorch-demo' target=\"_blank\">https://wandb.ai/maestros/pytorch-demo</a>"
            ],
            "text/plain": [
              "<IPython.core.display.HTML object>"
            ]
          },
          "metadata": {},
          "output_type": "display_data"
        },
        {
          "data": {
            "text/html": [
              " View run at <a href='https://wandb.ai/maestros/pytorch-demo/runs/64mxykit' target=\"_blank\">https://wandb.ai/maestros/pytorch-demo/runs/64mxykit</a>"
            ],
            "text/plain": [
              "<IPython.core.display.HTML object>"
            ]
          },
          "metadata": {},
          "output_type": "display_data"
        },
        {
          "name": "stdout",
          "output_type": "stream",
          "text": [
            "Downloading https://ossci-datasets.s3.amazonaws.com/mnist/train-images-idx3-ubyte.gz\n",
            "Downloading https://ossci-datasets.s3.amazonaws.com/mnist/train-images-idx3-ubyte.gz to .\\MNIST\\raw\\train-images-idx3-ubyte.gz\n"
          ]
        },
        {
          "name": "stderr",
          "output_type": "stream",
          "text": [
            "100%|██████████| 9912422/9912422 [00:05<00:00, 1914083.64it/s]\n"
          ]
        },
        {
          "name": "stdout",
          "output_type": "stream",
          "text": [
            "Extracting .\\MNIST\\raw\\train-images-idx3-ubyte.gz to .\\MNIST\\raw\n",
            "\n",
            "Downloading https://ossci-datasets.s3.amazonaws.com/mnist/train-labels-idx1-ubyte.gz\n",
            "Downloading https://ossci-datasets.s3.amazonaws.com/mnist/train-labels-idx1-ubyte.gz to .\\MNIST\\raw\\train-labels-idx1-ubyte.gz\n"
          ]
        },
        {
          "name": "stderr",
          "output_type": "stream",
          "text": [
            "100%|██████████| 28881/28881 [00:00<00:00, 220143.85it/s]\n"
          ]
        },
        {
          "name": "stdout",
          "output_type": "stream",
          "text": [
            "Extracting .\\MNIST\\raw\\train-labels-idx1-ubyte.gz to .\\MNIST\\raw\n",
            "\n",
            "Downloading https://ossci-datasets.s3.amazonaws.com/mnist/t10k-images-idx3-ubyte.gz\n",
            "Downloading https://ossci-datasets.s3.amazonaws.com/mnist/t10k-images-idx3-ubyte.gz to .\\MNIST\\raw\\t10k-images-idx3-ubyte.gz\n"
          ]
        },
        {
          "name": "stderr",
          "output_type": "stream",
          "text": [
            "100%|██████████| 1648877/1648877 [00:01<00:00, 1387405.15it/s]\n"
          ]
        },
        {
          "name": "stdout",
          "output_type": "stream",
          "text": [
            "Extracting .\\MNIST\\raw\\t10k-images-idx3-ubyte.gz to .\\MNIST\\raw\n",
            "\n",
            "Downloading https://ossci-datasets.s3.amazonaws.com/mnist/t10k-labels-idx1-ubyte.gz\n",
            "Downloading https://ossci-datasets.s3.amazonaws.com/mnist/t10k-labels-idx1-ubyte.gz to .\\MNIST\\raw\\t10k-labels-idx1-ubyte.gz\n"
          ]
        },
        {
          "name": "stderr",
          "output_type": "stream",
          "text": [
            "100%|██████████| 4542/4542 [00:00<?, ?it/s]\n"
          ]
        },
        {
          "name": "stdout",
          "output_type": "stream",
          "text": [
            "Extracting .\\MNIST\\raw\\t10k-labels-idx1-ubyte.gz to .\\MNIST\\raw\n",
            "\n",
            "ConvNet(\n",
            "  (layer1): Sequential(\n",
            "    (0): Conv2d(1, 16, kernel_size=(5, 5), stride=(1, 1), padding=(2, 2))\n",
            "    (1): ReLU()\n",
            "    (2): MaxPool2d(kernel_size=2, stride=2, padding=0, dilation=1, ceil_mode=False)\n",
            "  )\n",
            "  (layer2): Sequential(\n",
            "    (0): Conv2d(16, 32, kernel_size=(5, 5), stride=(1, 1), padding=(2, 2))\n",
            "    (1): ReLU()\n",
            "    (2): MaxPool2d(kernel_size=2, stride=2, padding=0, dilation=1, ceil_mode=False)\n",
            "  )\n",
            "  (fc): Linear(in_features=1568, out_features=10, bias=True)\n",
            ")\n"
          ]
        },
        {
          "data": {
            "application/vnd.jupyter.widget-view+json": {
              "model_id": "9c5750b857e94032afac6a957b100c4d",
              "version_major": 2,
              "version_minor": 0
            },
            "text/plain": [
              "  0%|          | 0/5 [00:00<?, ?it/s]"
            ]
          },
          "metadata": {},
          "output_type": "display_data"
        },
        {
          "name": "stdout",
          "output_type": "stream",
          "text": [
            "Loss after 03072 examples: 0.478\n",
            "Loss after 06272 examples: 0.112\n",
            "Loss after 09472 examples: 0.062\n",
            "Loss after 12640 examples: 0.052\n",
            "Loss after 15840 examples: 0.072\n",
            "Loss after 19040 examples: 0.034\n",
            "Loss after 22240 examples: 0.080\n",
            "Loss after 25408 examples: 0.159\n",
            "Loss after 28608 examples: 0.059\n",
            "Loss after 31808 examples: 0.068\n",
            "Loss after 35008 examples: 0.026\n",
            "Loss after 38176 examples: 0.029\n",
            "Loss after 41376 examples: 0.042\n",
            "Loss after 44576 examples: 0.037\n",
            "Loss after 47776 examples: 0.056\n",
            "Loss after 50944 examples: 0.031\n",
            "Loss after 54144 examples: 0.014\n",
            "Loss after 57344 examples: 0.021\n",
            "Accuracy of the model on the 2000 test images: 98.650000%\n"
          ]
        },
        {
          "data": {
            "application/vnd.jupyter.widget-view+json": {
              "model_id": "dc97bf1eadc245aab91247d8012493f7",
              "version_major": 2,
              "version_minor": 0
            },
            "text/plain": [
              "VBox(children=(Label(value='0.113 MB of 0.113 MB uploaded\\r'), FloatProgress(value=1.0, max=1.0)))"
            ]
          },
          "metadata": {},
          "output_type": "display_data"
        },
        {
          "data": {
            "text/html": [
              "<style>\n",
              "    table.wandb td:nth-child(1) { padding: 0 10px; text-align: left ; width: auto;} td:nth-child(2) {text-align: left ; width: 100%}\n",
              "    .wandb-row { display: flex; flex-direction: row; flex-wrap: wrap; justify-content: flex-start; width: 100% }\n",
              "    .wandb-col { display: flex; flex-direction: column; flex-basis: 100%; flex: 1; padding: 10px; }\n",
              "    </style>\n",
              "<div class=\"wandb-row\"><div class=\"wandb-col\"><h3>Run history:</h3><br/><table class=\"wandb\"><tr><td>epoch</td><td>▁▁▁▃▃▃▃▅▅▅▅▆▆▆▆███</td></tr><tr><td>loss</td><td>█▂▂▂▂▁▂▃▂▂▁▁▁▁▂▁▁▁</td></tr><tr><td>test_accuracy</td><td>▁</td></tr></table><br/></div><div class=\"wandb-col\"><h3>Run summary:</h3><br/><table class=\"wandb\"><tr><td>epoch</td><td>4</td></tr><tr><td>loss</td><td>0.02078</td></tr><tr><td>test_accuracy</td><td>0.9865</td></tr></table><br/></div></div>"
            ],
            "text/plain": [
              "<IPython.core.display.HTML object>"
            ]
          },
          "metadata": {},
          "output_type": "display_data"
        },
        {
          "data": {
            "text/html": [
              " View run <strong style=\"color:#cdcd00\">stellar-hill-1</strong> at: <a href='https://wandb.ai/maestros/pytorch-demo/runs/64mxykit' target=\"_blank\">https://wandb.ai/maestros/pytorch-demo/runs/64mxykit</a><br/>Synced 6 W&B file(s), 0 media file(s), 0 artifact file(s) and 1 other file(s)"
            ],
            "text/plain": [
              "<IPython.core.display.HTML object>"
            ]
          },
          "metadata": {},
          "output_type": "display_data"
        },
        {
          "data": {
            "text/html": [
              "Find logs at: <code>.\\wandb\\run-20240113_223537-64mxykit\\logs</code>"
            ],
            "text/plain": [
              "<IPython.core.display.HTML object>"
            ]
          },
          "metadata": {},
          "output_type": "display_data"
        }
      ],
      "source": [
        "# Build, train and analyze the model with the pipeline\n",
        "model = model_pipeline(config)"
      ]
    },
    {
      "cell_type": "markdown",
      "metadata": {
        "id": "8gheTAXdQM8F"
      },
      "source": [
        "# 🧹 Test Hyperparameters with Sweeps\n",
        "\n",
        "We only looked at a single set of hyperparameters in this example.\n",
        "But an important part of most ML workflows is iterating over\n",
        "a number of hyperparameters.\n",
        "\n",
        "You can use Weights & Biases Sweeps to automate hyperparameter testing and explore the space of possible models and optimization strategies.\n",
        "\n",
        "## [Check out Hyperparameter Optimization in PyTorch using W&B Sweeps $\\rightarrow$](http://wandb.me/sweeps-colab)\n",
        "\n",
        "Running a hyperparameter sweep with Weights & Biases is very easy. There are just 3 simple steps:\n",
        "\n",
        "1. **Define the sweep:** We do this by creating a dictionary or a [YAML file](https://docs.wandb.com/library/sweeps/configuration) that specifies the parameters to search through, the search strategy, the optimization metric et all.\n",
        "\n",
        "2. **Initialize the sweep:**\n",
        "`sweep_id = wandb.sweep(sweep_config)`\n",
        "\n",
        "3. **Run the sweep agent:**\n",
        "`wandb.agent(sweep_id, function=train)`\n",
        "\n",
        "And voila! That's all there is to running a hyperparameter sweep!\n",
        "<img src=\"https://imgur.com/UiQKg0L.png\" alt=\"Weights & Biases\" />\n"
      ]
    },
    {
      "cell_type": "markdown",
      "metadata": {
        "id": "Cfo3nDntQM8G"
      },
      "source": [
        "# 🖼️ Example Gallery\n",
        "\n",
        "See examples of projects tracked and visualized with W&B in our [Gallery →](https://app.wandb.ai/gallery)"
      ]
    },
    {
      "cell_type": "markdown",
      "metadata": {
        "id": "-CAbwE5KQM8G"
      },
      "source": [
        "# 🤓 Advanced Setup\n",
        "1. [Environment variables](https://docs.wandb.com/library/environment-variables): Set API keys in environment variables so you can run training on a managed cluster.\n",
        "2. [Offline mode](https://docs.wandb.com/library/technical-faq#can-i-run-wandb-offline): Use `dryrun` mode to train offline and sync results later.\n",
        "3. [On-prem](https://docs.wandb.com/self-hosted): Install W&B in a private cloud or air-gapped servers in your own infrastructure. We have local installations for everyone from academics to enterprise teams.\n",
        "4. [Sweeps](https://docs.wandb.com/sweeps): Set up hyperparameter search quickly with our lightweight tool for tuning."
      ]
    }
  ],
  "metadata": {
    "accelerator": "GPU",
    "colab": {
      "provenance": [],
      "toc_visible": true
    },
    "kernelspec": {
      "display_name": "Python 3",
      "name": "python3"
    },
    "language_info": {
      "codemirror_mode": {
        "name": "ipython",
        "version": 3
      },
      "file_extension": ".py",
      "mimetype": "text/x-python",
      "name": "python",
      "nbconvert_exporter": "python",
      "pygments_lexer": "ipython3",
      "version": "3.10.13"
    }
  },
  "nbformat": 4,
  "nbformat_minor": 0
}
