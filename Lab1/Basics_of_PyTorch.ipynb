{
  "cells": [
    {
      "cell_type": "markdown",
      "metadata": {
        "id": "view-in-github",
        "colab_type": "text"
      },
      "source": [
        "<a href=\"https://colab.research.google.com/github/volgasezen/di504/blob/main/Lab1/Basics_of_PyTorch.ipynb\" target=\"_parent\"><img src=\"https://colab.research.google.com/assets/colab-badge.svg\" alt=\"Open In Colab\"/></a>"
      ]
    },
    {
      "cell_type": "code",
      "execution_count": 1,
      "metadata": {
        "id": "_bOyR0h06d0W"
      },
      "outputs": [],
      "source": [
        "!pip install -U portalocker>=2.0.0"
      ]
    },
    {
      "cell_type": "markdown",
      "metadata": {
        "id": "XC-p2CGy6McK"
      },
      "source": [
        "# Google Colab and Pytorch Basics\n",
        "## by Arif Ozan Kızıldağ\n"
      ]
    },
    {
      "cell_type": "markdown",
      "metadata": {
        "id": "vWA4heDjVPXV"
      },
      "source": [
        "This tutorial will introduce you to the basics of PyTorch while we tackle a news classification task using the AG NEWS dataset. While creating this tutorial, the official PyTorch tutorial called [``Text classification with the torchtext library``](https://pytorch.org/tutorials/beginner/text_sentiment_ngrams_tutorial.html) was utilized as a reference."
      ]
    },
    {
      "cell_type": "markdown",
      "metadata": {
        "id": "dPCAHXIJ6Sn6"
      },
      "source": [
        "PyTorch is a Python deep learning library from Facebook mainly written with CUDA, which is a general purpose GPU computing framework of NVIDIA. Its low level design is intended to be similar with Numpy and to follow Python principles as much as possible. It facilitates deep learning applications with its CUDA backend, automatic differentiation mechanism on computational graphs and its utilities for machine learning and deep learning."
      ]
    },
    {
      "cell_type": "code",
      "execution_count": 2,
      "metadata": {
        "colab": {
          "base_uri": "https://localhost:8080/"
        },
        "id": "mJaCgY0b6CDo",
        "outputId": "8da70560-4ef6-4d64-c745-096bcaba00f1"
      },
      "outputs": [
        {
          "output_type": "stream",
          "name": "stdout",
          "text": [
            "torch version: 2.1.0+cu118\n",
            "torchtext version: 0.16.0+cpu\n",
            "torchdata version: 0.7.0\n"
          ]
        }
      ],
      "source": [
        "import time\n",
        "import torch\n",
        "import torchtext\n",
        "import torchdata\n",
        "\n",
        "print(f'torch version: {torch.__version__}')\n",
        "print(f'torchtext version: {torchtext.__version__}')\n",
        "print(f'torchdata version: {torchdata.__version__}')"
      ]
    },
    {
      "cell_type": "markdown",
      "metadata": {
        "id": "zZ_Y441F915v"
      },
      "source": [
        "Pytorch supports CUDA backend for accelerating parallelizable operations such as matrix multiplication and convolution in GPU. In Colab, Pytorch is installed with CUDA support. You can check if cuda is avaliable in current session by calling `torch.cuda.is_avaliable()` method. If it returns `False`, you can enable it by choosing GPU in menu `Runtime -> Change runtime type -> Hardware Accelerator` and restarting the runtime."
      ]
    },
    {
      "cell_type": "code",
      "execution_count": 3,
      "metadata": {
        "colab": {
          "base_uri": "https://localhost:8080/"
        },
        "id": "To2VUhVOAPdq",
        "outputId": "02099135-0121-4c31-ff78-814cbd674577"
      },
      "outputs": [
        {
          "output_type": "execute_result",
          "data": {
            "text/plain": [
              "True"
            ]
          },
          "metadata": {},
          "execution_count": 3
        }
      ],
      "source": [
        "torch.cuda.is_available()"
      ]
    },
    {
      "cell_type": "code",
      "execution_count": 4,
      "metadata": {
        "colab": {
          "base_uri": "https://localhost:8080/"
        },
        "id": "TOp6cx-_cLOp",
        "outputId": "bb877570-f6b8-4a87-e0d1-e964085d13b3"
      },
      "outputs": [
        {
          "output_type": "stream",
          "name": "stdout",
          "text": [
            "Thu Oct 26 14:44:37 2023       \n",
            "+-----------------------------------------------------------------------------+\n",
            "| NVIDIA-SMI 525.105.17   Driver Version: 525.105.17   CUDA Version: 12.0     |\n",
            "|-------------------------------+----------------------+----------------------+\n",
            "| GPU  Name        Persistence-M| Bus-Id        Disp.A | Volatile Uncorr. ECC |\n",
            "| Fan  Temp  Perf  Pwr:Usage/Cap|         Memory-Usage | GPU-Util  Compute M. |\n",
            "|                               |                      |               MIG M. |\n",
            "|===============================+======================+======================|\n",
            "|   0  Tesla T4            Off  | 00000000:00:04.0 Off |                    0 |\n",
            "| N/A   41C    P8     9W /  70W |      3MiB / 15360MiB |      0%      Default |\n",
            "|                               |                      |                  N/A |\n",
            "+-------------------------------+----------------------+----------------------+\n",
            "                                                                               \n",
            "+-----------------------------------------------------------------------------+\n",
            "| Processes:                                                                  |\n",
            "|  GPU   GI   CI        PID   Type   Process name                  GPU Memory |\n",
            "|        ID   ID                                                   Usage      |\n",
            "|=============================================================================|\n",
            "|  No running processes found                                                 |\n",
            "+-----------------------------------------------------------------------------+\n"
          ]
        }
      ],
      "source": [
        "!nvidia-smi"
      ]
    },
    {
      "cell_type": "markdown",
      "metadata": {
        "id": "Dh8mSVK1-CsW"
      },
      "source": [
        "![image.png](data:image/png;base64,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)"
      ]
    },
    {
      "cell_type": "markdown",
      "metadata": {
        "id": "AjNQvkYV-gi1"
      },
      "source": [
        "Disclaimer: This tutorial was created using the Google Colab environment at the end of August 2023. With any potential updates to Colab, especially concerning newer versions of Torch, there might be compatibility issues. When importing the libraries, we have printed their respective versions for clarity.\n",
        "\n",
        "Still working as of October 2023."
      ]
    },
    {
      "cell_type": "markdown",
      "metadata": {
        "id": "pPsKb7EG6q68"
      },
      "source": [
        "## Tensors and Gradients"
      ]
    },
    {
      "cell_type": "markdown",
      "metadata": {
        "id": "5jgZYsgx61K0"
      },
      "source": [
        "With Pytorch, you can create tensors in the way that you create arrays in Numpy. `torch.Tensor` is the main data structure of Pytorch. It holds the necesarry information for computation of created computational graphs in both forward and backward mode. Each tensor is an edge in computation."
      ]
    },
    {
      "cell_type": "code",
      "execution_count": 5,
      "metadata": {
        "colab": {
          "base_uri": "https://localhost:8080/"
        },
        "id": "5onkpAx460HD",
        "outputId": "992b359b-cd60-46e2-e77d-9c6174c0bd3b"
      },
      "outputs": [
        {
          "output_type": "stream",
          "name": "stdout",
          "text": [
            "\u001b[1mTensor generated with zeros method:\u001b[0m\n",
            "tensor([[0., 0., 0.],\n",
            "        [0., 0., 0.],\n",
            "        [0., 0., 0.],\n",
            "        [0., 0., 0.],\n",
            "        [0., 0., 0.]])\n",
            "\u001b[1m\n",
            "Tensor generated with ones method:\u001b[0m\n",
            "tensor([[2.5000, 2.5000, 2.5000],\n",
            "        [2.5000, 2.5000, 2.5000],\n",
            "        [2.5000, 2.5000, 2.5000],\n",
            "        [2.5000, 2.5000, 2.5000],\n",
            "        [2.5000, 2.5000, 2.5000]])\n",
            "\u001b[1m\n",
            "Randomly generated tensor:\u001b[0m\n",
            "tensor([[0.5037, 0.3336, 0.9714],\n",
            "        [0.5513, 0.1678, 0.9276],\n",
            "        [0.5567, 0.6124, 0.8324],\n",
            "        [0.5678, 0.3100, 0.1773],\n",
            "        [0.6045, 0.4876, 0.1978]])\n"
          ]
        }
      ],
      "source": [
        "# basic data operations\n",
        "x1 = torch.zeros(5, 3) #you can initilize tensors with zeros, ones or rand methods\n",
        "x2 = torch.ones(5, 3) * 2.5  #example of ones method\n",
        "x3 = torch.rand(5, 3)  # example of rand method\n",
        "print('\\033[1m'+'Tensor generated with zeros method:'+'\\033[0m')\n",
        "print(x1)\n",
        "print('\\033[1m'+'\\nTensor generated with ones method:'+'\\033[0m')\n",
        "print(x2)\n",
        "print('\\033[1m'+'\\nRandomly generated tensor:'+'\\033[0m')\n",
        "print(x3)"
      ]
    },
    {
      "cell_type": "markdown",
      "metadata": {
        "id": "E8BASZfg7a3S"
      },
      "source": [
        "Also, you can apply mathematical operations on tensors just as other scientific computing libraries."
      ]
    },
    {
      "cell_type": "code",
      "execution_count": 6,
      "metadata": {
        "colab": {
          "base_uri": "https://localhost:8080/"
        },
        "id": "erpC4gQk7OJI",
        "outputId": "95569964-1a2f-4ce2-ec83-c37186a4a234"
      },
      "outputs": [
        {
          "output_type": "stream",
          "name": "stdout",
          "text": [
            "\u001b[1mSum of x2 and x3:\u001b[0m\n",
            "tensor([[3.0037, 2.8336, 3.4714],\n",
            "        [3.0513, 2.6678, 3.4276],\n",
            "        [3.0567, 3.1124, 3.3324],\n",
            "        [3.0678, 2.8100, 2.6773],\n",
            "        [3.1045, 2.9876, 2.6978]])\n",
            "\u001b[1m\n",
            "Transpose of x3:\u001b[0m\n",
            "tensor([[0.5037, 0.5513, 0.5567, 0.5678, 0.6045],\n",
            "        [0.3336, 0.1678, 0.6124, 0.3100, 0.4876],\n",
            "        [0.9714, 0.9276, 0.8324, 0.1773, 0.1978]])\n",
            "\u001b[1m\n",
            "Shape of x2\u001b[0m\n",
            "torch.Size([5, 3])\n",
            "\u001b[1m\n",
            "Shape of x3.T \u001b[0m\n",
            "torch.Size([3, 5])\n",
            "\u001b[1m\n",
            "Matrix multiplication of x2 and x3.T\u001b[0m\n",
            "tensor([[4.5216, 4.1166, 5.0037, 2.6376, 3.2247],\n",
            "        [4.5216, 4.1166, 5.0037, 2.6376, 3.2247],\n",
            "        [4.5216, 4.1166, 5.0037, 2.6376, 3.2247],\n",
            "        [4.5216, 4.1166, 5.0037, 2.6376, 3.2247],\n",
            "        [4.5216, 4.1166, 5.0037, 2.6376, 3.2247]])\n"
          ]
        }
      ],
      "source": [
        "print('\\033[1m'+'Sum of x2 and x3:'+'\\033[0m')\n",
        "print(x2 + x3)\n",
        "print('\\033[1m'+'\\nTranspose of x3:'+'\\033[0m')\n",
        "print(x3.T)\n",
        "print('\\033[1m'+'\\nShape of x2'+'\\033[0m')\n",
        "print(x2.shape)    #shape method of the Tensor return dimentions of the tensor\n",
        "print('\\033[1m'+'\\nShape of x3.T '+'\\033[0m')\n",
        "print(x3.T.shape)\n",
        "print('\\033[1m'+'\\nMatrix multiplication of x2 and x3.T'+'\\033[0m')\n",
        "print(x2 @ x3.T) # @ is matrix multiplication operator. You can use .matmul() method as well."
      ]
    },
    {
      "cell_type": "markdown",
      "metadata": {
        "id": "QudUL58X9GoJ"
      },
      "source": [
        "\n",
        "Pytorch's autograd module lets you take derivatives of the leaf nodes in computational graphs by calling `.backward()` method of the scalar tensor to be differentiated. In this example, derivative of `x` with respect to `out = mean(x + y)` is computed by autograd. Note that differentiation by a matrix (or tensor) is nothing but differentiating by all elements in the matrix.\n",
        "\n",
        "By default, Pytorch does not keep gradients of newly created tensors, unless you specify it when creating a tensor."
      ]
    },
    {
      "cell_type": "code",
      "execution_count": 7,
      "metadata": {
        "colab": {
          "base_uri": "https://localhost:8080/"
        },
        "id": "wgHikPfuRsdF",
        "outputId": "1b33ff3d-d6fa-434c-99ae-59a405a387de"
      },
      "outputs": [
        {
          "output_type": "stream",
          "name": "stdout",
          "text": [
            "tensor([[1., 1., 1.],\n",
            "        [1., 1., 1.]], requires_grad=True)\n"
          ]
        }
      ],
      "source": [
        "x = torch.ones(2, 3, requires_grad=True)\n",
        "y = torch.ones(2, 3, requires_grad=True) * 0.5\n",
        "print(x)"
      ]
    },
    {
      "cell_type": "markdown",
      "metadata": {
        "id": "W7tP5YlwSSTK"
      },
      "source": [
        "Pytorch also keeps track of the operations that create tensors to apply chain rule at backward propagation. For example, y is created by a multiplication while x is not."
      ]
    },
    {
      "cell_type": "code",
      "execution_count": 8,
      "metadata": {
        "colab": {
          "base_uri": "https://localhost:8080/"
        },
        "id": "VtQYN6A_SYaw",
        "outputId": "567fba5b-73c5-4c85-e610-003681ee5d33"
      },
      "outputs": [
        {
          "output_type": "stream",
          "name": "stdout",
          "text": [
            "tensor([[0.5000, 0.5000, 0.5000],\n",
            "        [0.5000, 0.5000, 0.5000]], grad_fn=<MulBackward0>)\n"
          ]
        }
      ],
      "source": [
        "print(y)"
      ]
    },
    {
      "cell_type": "code",
      "execution_count": 9,
      "metadata": {
        "colab": {
          "base_uri": "https://localhost:8080/"
        },
        "id": "yeM7r8KeSdIP",
        "outputId": "7da84ebb-17f7-43c8-999a-1397e14c144d"
      },
      "outputs": [
        {
          "output_type": "stream",
          "name": "stdout",
          "text": [
            "tensor([[2.5000, 2.5000, 2.5000],\n",
            "        [2.5000, 2.5000, 2.5000]], grad_fn=<AddBackward0>)\n"
          ]
        }
      ],
      "source": [
        "z = 2*x + y\n",
        "print(z)"
      ]
    },
    {
      "cell_type": "code",
      "execution_count": 10,
      "metadata": {
        "colab": {
          "base_uri": "https://localhost:8080/"
        },
        "id": "C-gdGEhpSi31",
        "outputId": "6da4feb3-e175-47c0-9267-427f753de775"
      },
      "outputs": [
        {
          "output_type": "stream",
          "name": "stdout",
          "text": [
            "tensor(2.5000, grad_fn=<MeanBackward0>)\n"
          ]
        }
      ],
      "source": [
        "out_scalar = z.mean()\n",
        "print(out_scalar)"
      ]
    },
    {
      "cell_type": "markdown",
      "metadata": {
        "id": "7rfb2UXGT3KT"
      },
      "source": [
        "When you call `.backward()` of a 'scalar valued' tensor, autograd module automatically populates the `.grad` fields of the other tensors in computational graph."
      ]
    },
    {
      "cell_type": "code",
      "execution_count": 11,
      "metadata": {
        "colab": {
          "base_uri": "https://localhost:8080/"
        },
        "id": "XdcPA5pKTxrZ",
        "outputId": "87e73131-fd55-43fb-e4fa-8e2e6b0ac6e9"
      },
      "outputs": [
        {
          "output_type": "stream",
          "name": "stdout",
          "text": [
            "tensor([[0.3333, 0.3333, 0.3333],\n",
            "        [0.3333, 0.3333, 0.3333]])\n"
          ]
        }
      ],
      "source": [
        "out_scalar.backward()\n",
        "print(x.grad)"
      ]
    },
    {
      "cell_type": "code",
      "execution_count": 12,
      "metadata": {
        "colab": {
          "base_uri": "https://localhost:8080/"
        },
        "id": "HGwmECJ_cLOu",
        "outputId": "3308f6b4-5b5d-47b2-a9fb-b63c1a8ad1f7"
      },
      "outputs": [
        {
          "output_type": "execute_result",
          "data": {
            "text/plain": [
              "tensor(2.)"
            ]
          },
          "metadata": {},
          "execution_count": 12
        }
      ],
      "source": [
        "x.grad.sum()"
      ]
    },
    {
      "cell_type": "markdown",
      "metadata": {
        "id": "9A3TjXOuAdsZ"
      },
      "source": [
        "## GPU vs CPU"
      ]
    },
    {
      "cell_type": "markdown",
      "metadata": {
        "id": "f_3_YrrUAdQg"
      },
      "source": [
        "You can send tensors in GPU memory by calling `.cuda()` methods from tensors. If you run an operations on tensors in the GPU memory, it will automatically be calculated in GPU so that you don't need to use CUDA for most operations.\n",
        "\n",
        "Here is a benchmark for multiplication of large matrices in CPU and GPU."
      ]
    },
    {
      "cell_type": "code",
      "execution_count": 13,
      "metadata": {
        "colab": {
          "base_uri": "https://localhost:8080/"
        },
        "id": "g2wg7p41Arph",
        "outputId": "a0086a43-78f4-4c06-8ec6-c8c6d952f1e4"
      },
      "outputs": [
        {
          "output_type": "stream",
          "name": "stdout",
          "text": [
            "Calculation took 34.70 seconds\n"
          ]
        }
      ],
      "source": [
        "x = torch.rand(500, 700)\n",
        "y = torch.rand(700, 900)\n",
        "\n",
        "start = time.time()\n",
        "\n",
        "for n in range(5000):# depending on the systems cpu this process may take some time\n",
        "    x.matmul(y)\n",
        "\n",
        "end = time.time()\n",
        "\n",
        "cpu_time = end - start\n",
        "print(f'Calculation took {cpu_time:.2f} seconds')"
      ]
    },
    {
      "cell_type": "code",
      "execution_count": 14,
      "metadata": {
        "colab": {
          "base_uri": "https://localhost:8080/"
        },
        "id": "U5RjMMDaAvyQ",
        "outputId": "13dd15bb-1881-492c-cd7a-0c862a61837d"
      },
      "outputs": [
        {
          "output_type": "stream",
          "name": "stdout",
          "text": [
            "Calculation took 3.90 seconds\n"
          ]
        }
      ],
      "source": [
        "x = torch.rand(500, 700).cuda()\n",
        "y = torch.rand(700, 900).cuda()\n",
        "\n",
        "start = time.time()\n",
        "\n",
        "for n in range(5000):\n",
        "    x.matmul(y)\n",
        "\n",
        "end = time.time()\n",
        "\n",
        "gpu_time = end - start\n",
        "print(f'Calculation took {gpu_time:.2f} seconds')"
      ]
    },
    {
      "cell_type": "markdown",
      "metadata": {
        "id": "txvj4AgGA8ag"
      },
      "source": [
        "GPU had significant advantage here. Actually, this is not even a very significant difference when compared with how it speeds up deep neural networks."
      ]
    },
    {
      "cell_type": "markdown",
      "metadata": {
        "id": "7ydeZvm3A-37"
      },
      "source": [
        "## Data Utilities"
      ]
    },
    {
      "cell_type": "markdown",
      "metadata": {
        "id": "JKQtPE_SBNSb"
      },
      "source": [
        "In addition to the scientific computing features of Pytorch, it has utilities for common operations in machine learning. These include dataset operations like sampling, shuffling, batching of data or loading of commonly used datasets. Some of these features are provided with `torchtext` library, which is a NLP specialized library which is officially supported by Pytorch team.  In this example, AG_NEWS dataset is loaded using `torchtext.datasets`"
      ]
    },
    {
      "cell_type": "code",
      "execution_count": 15,
      "metadata": {
        "id": "4ibLhgAWBJ0H"
      },
      "outputs": [],
      "source": [
        "from torchtext.datasets import AG_NEWS\n",
        "\n",
        "train_iter, test_iter = AG_NEWS(split=('train', 'test'))"
      ]
    },
    {
      "cell_type": "markdown",
      "metadata": {
        "id": "92RdgOzvCxXx"
      },
      "source": [
        "This iterator facilitates the efficient processing of raw data and provides easy access to it"
      ]
    },
    {
      "cell_type": "code",
      "execution_count": 16,
      "metadata": {
        "colab": {
          "base_uri": "https://localhost:8080/"
        },
        "id": "9gfiwnQSDInL",
        "outputId": "f7c22205-2bc9-4862-cc35-660acca90a53"
      },
      "outputs": [
        {
          "output_type": "execute_result",
          "data": {
            "text/plain": [
              "(3,\n",
              " \"Wall St. Bears Claw Back Into the Black (Reuters) Reuters - Short-sellers, Wall Street's dwindling\\\\band of ultra-cynics, are seeing green again.\")"
            ]
          },
          "metadata": {},
          "execution_count": 16
        }
      ],
      "source": [
        "next(iter(train_iter))"
      ]
    },
    {
      "cell_type": "markdown",
      "metadata": {
        "id": "I7-pe_KQDpgX"
      },
      "source": [
        "\"\"In the standard NLP process, we convert text into tokens, which in our context are essentially words. These tokens are then mapped to numbers. This can be observed in the following code block:"
      ]
    },
    {
      "cell_type": "code",
      "execution_count": 17,
      "metadata": {
        "id": "xdcYoMCeDpCH"
      },
      "outputs": [],
      "source": [
        "from torchtext.data.utils import get_tokenizer\n",
        "from torchtext.vocab import build_vocab_from_iterator\n",
        "\n",
        "tokenizer = get_tokenizer(\"basic_english\")\n",
        "train_iter = AG_NEWS(split=\"train\")\n",
        "\n",
        "\n",
        "def yield_tokens(data_iter):\n",
        "    for _, text in data_iter:\n",
        "        yield tokenizer(text)\n",
        "\n",
        "\n",
        "vocab = build_vocab_from_iterator(yield_tokens(train_iter), specials=[\"<unk>\"])  # Creates a dictionary for tokens\n",
        "vocab.set_default_index(vocab[\"<unk>\"])"
      ]
    },
    {
      "cell_type": "code",
      "execution_count": 18,
      "metadata": {
        "colab": {
          "base_uri": "https://localhost:8080/"
        },
        "id": "NiNzYNMgcLOy",
        "outputId": "f764349d-ae01-4a68-c0dd-adfce527b192"
      },
      "outputs": [
        {
          "output_type": "execute_result",
          "data": {
            "text/plain": [
              "['i', 'have', 'a', 'cat', 'named', 'pizza', '!']"
            ]
          },
          "metadata": {},
          "execution_count": 18
        }
      ],
      "source": [
        "tokenizer('I have a cat named pizza!')"
      ]
    },
    {
      "cell_type": "code",
      "execution_count": 19,
      "metadata": {
        "colab": {
          "base_uri": "https://localhost:8080/"
        },
        "id": "XfifoGgwEQkO",
        "outputId": "9ee98917-1ac5-4796-fcc9-6468f3dea559"
      },
      "outputs": [
        {
          "output_type": "execute_result",
          "data": {
            "text/plain": [
              "[475, 21, 30, 5297]"
            ]
          },
          "metadata": {},
          "execution_count": 19
        }
      ],
      "source": [
        "vocab(['here', 'is', 'an', 'example'])"
      ]
    },
    {
      "cell_type": "code",
      "execution_count": 20,
      "metadata": {
        "colab": {
          "base_uri": "https://localhost:8080/"
        },
        "id": "Rie1JJfQcLOy",
        "outputId": "6fb7a673-1439-4d8a-e6a1-1a46aa2f5c23"
      },
      "outputs": [
        {
          "output_type": "execute_result",
          "data": {
            "text/plain": [
              "[0]"
            ]
          },
          "metadata": {},
          "execution_count": 20
        }
      ],
      "source": [
        "vocab(['mükerrer'])"
      ]
    },
    {
      "cell_type": "code",
      "execution_count": 21,
      "metadata": {
        "id": "EUgiQS-zE2kj"
      },
      "outputs": [],
      "source": [
        "text_pipeline = lambda x: vocab(tokenizer(x))   # Pipelines for conversion\n",
        "label_pipeline = lambda x: int(x) - 1"
      ]
    },
    {
      "cell_type": "markdown",
      "metadata": {
        "id": "4yNDGqLZFBsz"
      },
      "source": [
        "The DataLoader in PyTorch efficiently batches and loads datasets for neural network training and evaluation. It supports data shuffling, automatic batching, and parallel data loading with multiple worker processes.\n",
        "\n",
        "Before sending to the model, ``collate_fn`` function works on a batch of samples generated from ``DataLoader``. The input to ``collate_fn`` is a batch of data with the batch size in ``DataLoader``, and ``collate_fn`` processes them according to the data processing pipelines declared previously. Pay attention here and make sure that ``collate_fn`` is declared as a top level def. This ensures that the function is available in each worker.\n",
        "\n",
        "In this example, the text entries in the original data batch input are packed into a list and concatenated as a single tensor for the input of ``nn.EmbeddingBag``. The offset is a tensor of delimiters to represent the beginning index of the individual sequence in the text tensor. Label is a tensor saving the labels of individual text entries."
      ]
    },
    {
      "cell_type": "code",
      "execution_count": 22,
      "metadata": {
        "id": "8CtdfGT8Eqe0"
      },
      "outputs": [],
      "source": [
        "from torch.utils.data import DataLoader\n",
        "\n",
        "device = torch.device(\"cuda\" if torch.cuda.is_available() else \"cpu\")\n",
        "\n",
        "\n",
        "def collate_batch(batch):\n",
        "    label_list, text_list, offsets = [], [], [0]\n",
        "\n",
        "    for _label, _text in batch:\n",
        "        label_list.append(label_pipeline(_label))\n",
        "        processed_text = torch.tensor(text_pipeline(_text), dtype=torch.int64)\n",
        "        text_list.append(processed_text)\n",
        "        offsets.append(processed_text.size(0))\n",
        "\n",
        "    label_list = torch.tensor(label_list, dtype=torch.int64)\n",
        "    offsets = torch.tensor(offsets[:-1]).cumsum(dim=0)\n",
        "    text_list = torch.cat(text_list)\n",
        "    return label_list.to(device), text_list.to(device), offsets.to(device)\n",
        "\n",
        "\n",
        "train_iter = AG_NEWS(split=\"train\")\n",
        "dataloader = DataLoader(\n",
        "    train_iter, batch_size=8, shuffle=False, collate_fn=collate_batch\n",
        ")"
      ]
    },
    {
      "cell_type": "code",
      "execution_count": 23,
      "metadata": {
        "colab": {
          "base_uri": "https://localhost:8080/"
        },
        "id": "l6r7lvWWcLOz",
        "outputId": "f1e395c9-86be-46f9-add0-4139cab9ebf4"
      },
      "outputs": [
        {
          "output_type": "execute_result",
          "data": {
            "text/plain": [
              "(tensor([2, 2, 2, 2, 2, 2, 2, 2], device='cuda:0'),\n",
              " tensor([  431,   425,     1,  1605, 14838,   113,    66,     2,   848,    13,\n",
              "            27,    14,    27,    15, 50725,     3,   431,   374,    16,     9,\n",
              "         67507,     6, 52258,     3,    42,  4009,   783,   325,     1, 15874,\n",
              "          1072,   854,  1310,  4250,    13,    27,    14,    27,    15,   929,\n",
              "           797,   320, 15874,    98,     3, 27657,    28,     5,  4459,    11,\n",
              "           564, 52790,     8, 80617,  2125,     7,     2,   525,   241,     3,\n",
              "            28,  3890, 82814,  6574,    10,   206,   359,     6,     2,   126,\n",
              "             1,    58,     8,   347,  4582,   151,    16,   738,    13,    27,\n",
              "            14,    27,    15,  2384,   452,    92,  2059, 27360,     2,   347,\n",
              "             8,     2,   738,    11,   271,    42,   240, 51953,    38,     2,\n",
              "           294,   126,   112,    85,   220,     2,  7856,     6, 40066, 15380,\n",
              "             1,    70,  7376,    58,  1810,    29,   905,   537,  2846,    13,\n",
              "            27,    14,    27,    15,   838,    39,  4978,    58, 68871,    29,\n",
              "             2,   905,  2846,     7,   537,    70, 58874,   703,     5,   912,\n",
              "          2520,    93, 89171,     3,    30,    58,   293,    26,    10,   114,\n",
              "             1,    58,    92,  4379,     4,  3581,   145,     3,  7577,    23,\n",
              "         12282,     4,    36,   347,    13,   105,    14,   105,    15, 90056,\n",
              "            50,    58,    92,     3, 11312,  1732,     8, 13750,  9735,     3,\n",
              "          3593,     5,    23,   365, 12282,  3470,    94,   299,   167,     2,\n",
              "            36,   399,   545,     1,   151,   152,    43,     3,    45,   355,\n",
              "            71,  2280,    13,    27,    14,    27,    15,   151,   789,  1357,\n",
              "           280,    10, 70411,  4433,   355,  2280,    11,     2,    71,    19,\n",
              "            58,    92,  2301,   353,   468, 55934,   715,     3, 12933,     5,\n",
              "          1617,   738,    29,   179, 77320,    64,     1,    13,   846,     1,\n",
              "           371,    14,   756,  1207,   439,     7,   307,    85,    13,    31,\n",
              "            14,    31,    15,  1766,     6,     2,   407,    16,     9,   832,\n",
              "           756,   126,  2145,  1207,   439,    24,   468,   108,     1,   782,\n",
              "           139,     7,     2,   307,    85,     4,   468, 56748,     1,  8874,\n",
              "          6852,     3,     2,   797,    54,  3007,    26,    60,     1,  1355,\n",
              "          1236,   517, 13945,    38,  1416,    13,  2199,     1,   172,    14,\n",
              "          2199,     1,   172,    15,   832,   124,  5951,   113,     5,  2539,\n",
              "             7,  1232,     3,     8,    23,   571,    11,  2444,  1687,   439,\n",
              "            69,    85,     3,     2,   100,    26,    60,     3,  7126,     2,\n",
              "           347,    21,  2566,    29,     5, 26470,  3676,     1],\n",
              "        device='cuda:0'),\n",
              " tensor([  0,  29,  71, 111, 151, 194, 242, 289], device='cuda:0'))"
            ]
          },
          "metadata": {},
          "execution_count": 23
        }
      ],
      "source": [
        "next(iter(dataloader))"
      ]
    },
    {
      "cell_type": "markdown",
      "metadata": {
        "id": "jIIb_4bxHeDR"
      },
      "source": [
        "## Model initiation"
      ]
    },
    {
      "cell_type": "markdown",
      "metadata": {
        "id": "C2WvkesxIkue"
      },
      "source": [
        "To create neural networks with Pytorch, you need to create a Class that inherits `torch.nn.Module`. Then, you need to define the layers in the `__init__` method and define the forward propagation logic in `forward` method. This class can be considered as a blueprint of the network. It specifies the shapes of its parameters, but does not initialize the parameters. The example below shows a 3 layer network with input size 30 and layer sizes [20, 15, 1], respectively. Most common layers are provided by `torch.nn` module."
      ]
    },
    {
      "cell_type": "code",
      "execution_count": 24,
      "metadata": {
        "id": "HkUnczrNHfJh"
      },
      "outputs": [],
      "source": [
        "class DumbNetwork(torch.nn.Module):\n",
        "    def __init__(self):\n",
        "        super().__init__()\n",
        "        self.layer1 = torch.nn.Linear(30, 20)\n",
        "        self.layer2 = torch.nn.Linear(20, 15)\n",
        "        self.layer3 = torch.nn.Linear(15, 1)\n",
        "\n",
        "    def forward(self, x):\n",
        "        x = self.layer1(x)\n",
        "        x = torch.nn.functional.relu(x)\n",
        "        x = self.layer2(x)\n",
        "        x = torch.nn.functional.relu(x)\n",
        "        x = self.layer3(x)\n",
        "        return x"
      ]
    },
    {
      "cell_type": "code",
      "execution_count": 25,
      "metadata": {
        "id": "yaLNQiTLIu3N"
      },
      "outputs": [],
      "source": [
        "input_data = torch.ones(16, 30) #dummy input to match the network's input shape"
      ]
    },
    {
      "cell_type": "code",
      "execution_count": 26,
      "metadata": {
        "colab": {
          "base_uri": "https://localhost:8080/"
        },
        "id": "OPpD6JD5IyND",
        "outputId": "81547ee5-248d-429a-dc0a-124f915de586"
      },
      "outputs": [
        {
          "output_type": "stream",
          "name": "stdout",
          "text": [
            "torch.Size([16, 30])\n"
          ]
        }
      ],
      "source": [
        "print(input_data.shape)"
      ]
    },
    {
      "cell_type": "markdown",
      "metadata": {
        "id": "Lq2zJ_RLOhNj"
      },
      "source": [
        "To initialize and instantiate a network from the blueprint, you can just use the class initialization syntax of Python, which is shown below.\n",
        "Note that if the `__init__` method takes arguments other than `self`, then you need to initialize the network with these arguments."
      ]
    },
    {
      "cell_type": "code",
      "execution_count": 27,
      "metadata": {
        "id": "M8NmylK5OhNk"
      },
      "outputs": [],
      "source": [
        "network = DumbNetwork()"
      ]
    },
    {
      "cell_type": "code",
      "execution_count": 28,
      "metadata": {
        "colab": {
          "base_uri": "https://localhost:8080/"
        },
        "id": "im1xVcvZOhNl",
        "outputId": "2873b4dd-9565-4940-e706-c70f74d7f82d"
      },
      "outputs": [
        {
          "output_type": "stream",
          "name": "stdout",
          "text": [
            "DumbNetwork(\n",
            "  (layer1): Linear(in_features=30, out_features=20, bias=True)\n",
            "  (layer2): Linear(in_features=20, out_features=15, bias=True)\n",
            "  (layer3): Linear(in_features=15, out_features=1, bias=True)\n",
            ")\n"
          ]
        }
      ],
      "source": [
        "print(network)"
      ]
    },
    {
      "cell_type": "markdown",
      "metadata": {
        "id": "vfaG_fgIOhNm"
      },
      "source": [
        "When the network is called via function call operator `()`, `forward` method of the network is called. Note that network handles inputs as batches and the batch dimension can be arbitrary."
      ]
    },
    {
      "cell_type": "code",
      "execution_count": 29,
      "metadata": {
        "id": "Gi8ZNv4xOhNn"
      },
      "outputs": [],
      "source": [
        "output = network(input_data)"
      ]
    },
    {
      "cell_type": "code",
      "execution_count": 30,
      "metadata": {
        "colab": {
          "base_uri": "https://localhost:8080/"
        },
        "id": "JnvWNqYTOhNo",
        "outputId": "106bc43a-dac5-416a-bc65-c155dd41bcc1"
      },
      "outputs": [
        {
          "output_type": "stream",
          "name": "stdout",
          "text": [
            "torch.Size([16, 1])\n"
          ]
        }
      ],
      "source": [
        "print(output.shape)"
      ]
    },
    {
      "cell_type": "markdown",
      "metadata": {
        "id": "RSAsvRevcLO6"
      },
      "source": [
        "### Question: What do you expect to see as the output at this stage?"
      ]
    },
    {
      "cell_type": "code",
      "execution_count": null,
      "metadata": {
        "id": "ejj-dQKccLO6"
      },
      "outputs": [],
      "source": [
        "output"
      ]
    },
    {
      "cell_type": "markdown",
      "metadata": {
        "id": "KQqWkyU6cLO7"
      },
      "source": [
        "### Embedding layers\n",
        "#### idea from Erdem hoca"
      ]
    },
    {
      "cell_type": "code",
      "execution_count": 32,
      "metadata": {
        "colab": {
          "base_uri": "https://localhost:8080/"
        },
        "id": "6wIosOWwcLO7",
        "outputId": "78261731-b345-4710-81fb-9afbddc9f6fb"
      },
      "outputs": [
        {
          "output_type": "stream",
          "name": "stdout",
          "text": [
            "\u001b[1mShape and size of our input\u001b[0m\n",
            "torch.Size([2, 4])\n",
            "tensor([[1, 2, 4, 5],\n",
            "        [4, 3, 9, 2]])\n",
            "\u001b[1mShape and size of our output\u001b[0m\n",
            "torch.Size([2, 4, 3])\n",
            "tensor([[[-0.6460, -0.8772,  1.6429],\n",
            "         [-0.8718,  0.8629, -1.1112],\n",
            "         [-0.3499,  0.5933,  0.8081],\n",
            "         [-1.7888, -0.8209,  0.0474]],\n",
            "\n",
            "        [[-0.3499,  0.5933,  0.8081],\n",
            "         [ 1.2804, -0.0336,  0.0086],\n",
            "         [ 0.2457,  0.2786,  0.7624],\n",
            "         [-0.8718,  0.8629, -1.1112]]], grad_fn=<EmbeddingBackward0>)\n",
            "\u001b[1mEmbedding for index 5\u001b[0m\n",
            "tensor([-1.7888, -0.8209,  0.0474], grad_fn=<SqueezeBackward4>)\n"
          ]
        }
      ],
      "source": [
        "# input: sequence of indices from 0-9,\n",
        "num_embeddings = 10 # K = 10\n",
        "# outpt: a vector of length 3 for each \"index\",\n",
        "embeddings_dim = 3 # N = 3\n",
        "\n",
        "# an Embedding module containing 10 tensors of size 3\n",
        "embedding = torch.nn.Embedding(num_embeddings, embeddings_dim)\n",
        "\n",
        "# the input is a batch of 2 samples of 4 indices each\n",
        "input = torch.LongTensor([[1,2,4,5],[4,3,9,2]])\n",
        "print('\\033[1m'+'Shape and size of our input'+'\\033[0m')\n",
        "print(input.shape)\n",
        "print(input)\n",
        "\n",
        "# the input is a batch of 2 samples, of 4 3-1ength ebmedding vectors\n",
        "output = embedding(input)\n",
        "\n",
        "print('\\033[1m'+'Shape and size of our output'+'\\033[0m')\n",
        "print(output.shape) # torch. Size([2, 4, 3])\n",
        "print(output)\n",
        "\n",
        "# this is a simple layer of weights num_embeddings x embeddings_dim\n",
        "# e.g. a one-hot vector representing index 5 (indices starts from 0, goes to 9\n",
        "\n",
        "aHotOne = torch.Tensor([0,0,0,0,0,1,0,0,0,0])\n",
        "embeddingofaHotOne = torch.matmul(aHotOne,embedding.weight)\n",
        "print('\\033[1m'+'Embedding for index 5'+'\\033[0m')\n",
        "print(embeddingofaHotOne)"
      ]
    },
    {
      "cell_type": "code",
      "execution_count": 33,
      "metadata": {
        "colab": {
          "base_uri": "https://localhost:8080/"
        },
        "id": "PlB2xTdGcLO7",
        "outputId": "ab8ac139-50dd-42ee-b56f-4b893debd8fc"
      },
      "outputs": [
        {
          "output_type": "stream",
          "name": "stdout",
          "text": [
            " \n",
            "Ouput with Padding: \n",
            "tensor([[ 0.0000,  0.0000,  0.0000],\n",
            "        [-2.2506,  0.6685,  1.2745],\n",
            "        [ 0.0000,  0.0000,  0.0000],\n",
            "        [ 0.0730, -0.7415,  0.7762]], grad_fn=<EmbeddingBackward0>)\n"
          ]
        }
      ],
      "source": [
        "#example 2\n",
        "#let's talk about padding in sequences, it is usefull\n",
        "embedding = torch.nn.Embedding(10, 3, padding_idx=0)\n",
        "input = torch.LongTensor([0,2,0,5])\n",
        "output_wPads = embedding(input)\n",
        "print( ' \\nOuput with Padding: ')\n",
        "print (output_wPads)"
      ]
    },
    {
      "cell_type": "markdown",
      "metadata": {
        "id": "dz__u5ibcLO7"
      },
      "source": [
        "Useful when you don't want to learn the value of a category. (Yes, No, Unsure for example. Then padding_idx would be 2 if they were indexed as 0,1,2)"
      ]
    },
    {
      "cell_type": "markdown",
      "metadata": {
        "id": "oGVEKVW-JGP4"
      },
      "source": [
        "### Modelling the Classification of AG_NEWS Articles"
      ]
    },
    {
      "cell_type": "markdown",
      "metadata": {
        "id": "_6YiJTQ3JuNp"
      },
      "source": [
        "\n",
        "Now that we know how to create models, let's create models for our task. As mentioned, we are going to utilize an \"embedding bag,\" which is essentially a summation of embeddings. If you're unfamiliar with what embeddings are, you can think of them as representing objects in a multi-dimensional space rather than listing them in a linear array. For example, you could represent the computer you're using in terms of its coordinates (x, y, z) relative to the center of the room.\n",
        "\n",
        "Text embeddings work similarly; instead of representing each word with a simple number, we represent them in different, abstract dimensions that capture various semantic attributes or ideas.\n",
        "\n",
        "You have **five minutes** to fill in the empty spaces and make the following class functional. You can verify the accuracy of your work using the next code block"
      ]
    },
    {
      "cell_type": "code",
      "execution_count": 34,
      "metadata": {
        "id": "MtrcV47JJQuG"
      },
      "outputs": [],
      "source": [
        "from torch import nn\n",
        "class TextClassificationModel(nn.Module):\n",
        "    def __init__(self, vocab_size, embed_dim, num_class):\n",
        "        super(TextClassificationModel, self).__init__()\n",
        "        self.embedding = nn.EmbeddingBag(vocab_size, embed_dim, sparse=False)\n",
        "        ## Fill here ##\n",
        "        self.init_weights()\n",
        "\n",
        "    def init_weights(self):\n",
        "        initrange = 0.5\n",
        "        self.embedding.weight.data.uniform_(-initrange, initrange)\n",
        "        self.fc.weight.data.uniform_(-initrange, initrange)\n",
        "        self.fc.bias.data.zero_()\n",
        "\n",
        "    def forward(self, text, offsets):\n",
        "        ## Fill here ##\n",
        "        ## Fill here ##\n",
        "        return out"
      ]
    },
    {
      "cell_type": "markdown",
      "metadata": {
        "id": "_EniC9jMJy4m"
      },
      "source": [
        "The ``AG_NEWS`` dataset has four labels and therefore the number of classes is four.\n",
        "\n",
        "1.  World\n",
        "2.  Sports\n",
        "3.  Business\n",
        "4.  Sci/Tec\n",
        "\n",
        "Lets select embedding size as 64.\n"
      ]
    },
    {
      "cell_type": "code",
      "execution_count": 35,
      "metadata": {
        "colab": {
          "base_uri": "https://localhost:8080/"
        },
        "id": "LMNSM6dzJ3at",
        "outputId": "1e36e27d-dcbd-48a8-e2a4-bcf330a6dc4d"
      },
      "outputs": [
        {
          "output_type": "stream",
          "name": "stdout",
          "text": [
            "TextClassificationModel(\n",
            "  (embedding): EmbeddingBag(95811, 64, mode='mean')\n",
            "  (fc): Linear(in_features=64, out_features=4, bias=True)\n",
            ")\n"
          ]
        }
      ],
      "source": [
        "train_iter = AG_NEWS(split=\"train\")\n",
        "num_class = len(set([label for (label, text) in train_iter]))\n",
        "vocab_size = len(vocab)\n",
        "emsize = 64\n",
        "model = TextClassificationModel(vocab_size, emsize, num_class).to(device)\n",
        "print(model)"
      ]
    },
    {
      "cell_type": "markdown",
      "metadata": {
        "id": "w2xtbpdmQC3Y"
      },
      "source": [
        "## Optimization"
      ]
    },
    {
      "cell_type": "markdown",
      "metadata": {
        "id": "MaoG3m5VTJAT"
      },
      "source": [
        "### Example"
      ]
    },
    {
      "cell_type": "markdown",
      "metadata": {
        "id": "5iWFGhnpM36k"
      },
      "source": [
        "Since most deep neural networks are trained with a Stochastic Gradient Descent (SGD) variant, Pytorch also has a module that provides most deep learning optimizers, and utilities like learning rate schedulers.\n"
      ]
    },
    {
      "cell_type": "code",
      "execution_count": 36,
      "metadata": {
        "id": "Ufwhz3UA0tc0"
      },
      "outputs": [],
      "source": [
        "x = torch.tensor(100.0, requires_grad=True)\n",
        "y = torch.tensor(100.0, requires_grad=True)\n",
        "\n",
        "#This optimizer is going to optimize x and y\n",
        "optimizer = torch.optim.SGD(params=[x, y],\n",
        "                            lr=0.01)"
      ]
    },
    {
      "cell_type": "markdown",
      "metadata": {
        "id": "tjzqzg2DN7xD"
      },
      "source": [
        "Before proceeding, I suggest you to find values of `x` and `y` to minimize `my_function(x, y)`"
      ]
    },
    {
      "cell_type": "code",
      "execution_count": 37,
      "metadata": {
        "id": "B1yX1aL20tc9"
      },
      "outputs": [],
      "source": [
        "def my_function(x, y):\n",
        "    return torch.square(x) + torch.square(y)"
      ]
    },
    {
      "cell_type": "markdown",
      "metadata": {
        "id": "p0Bje6g8OAXz"
      },
      "source": [
        "You can create optimizers by initializing the classes in `torch.optim` module with the parameters (needs to be an iterable like a list) to be optimized such as learning rate and momentum.\n",
        "Actually optimizers does not know anything about the optimized quantity. It can only access (and reset) the gradient fields (`.grad`) of the tensors in its `params=` argument.\n",
        "\n",
        "The `grad` field of tensors is populated by `.backward()` method of to-be-minimized tensor.\n",
        "\n",
        "In this example, `x` and `y` are optimized to minimize `z` tensor. So `.backward()` needs is called from `z`."
      ]
    },
    {
      "cell_type": "markdown",
      "metadata": {
        "id": "E9iGaY_1OJYR"
      },
      "source": [
        "Now, try to run the cell below to see how SGD optimizer minimizes z by subtracting the gradients of x and y from themselves after multiplying gradients by the learning rate (lr).\n",
        "\n",
        "You can run cells before proceeding to the next cell by Ctrl+Enter.\n",
        "\n",
        "**Try different learning rates: 5, 1, 0.1 to see how the convergence speed changes.**"
      ]
    },
    {
      "cell_type": "code",
      "execution_count": 38,
      "metadata": {
        "colab": {
          "base_uri": "https://localhost:8080/"
        },
        "id": "tt3UbT8q0tdD",
        "outputId": "b0a14796-ce85-457f-801a-0dbbbd2c2762"
      },
      "outputs": [
        {
          "output_type": "stream",
          "name": "stdout",
          "text": []
        }
      ],
      "source": [
        "for i in range(30):\n",
        "    #calculate x^2 + y^2\n",
        "    z = my_function(x, y)\n",
        "\n",
        "    #calculate gradients of x and y wrt. z\n",
        "    optimizer.zero_grad()\n",
        "    z.backward()\n",
        "\n",
        "    #take a gradient descent step\n",
        "    optimizer.step()\n",
        "\n",
        "    #l5 = f'x^2 + y^2 = {z}'\n",
        "    print(f'[x & y before: {x.item():.2f}, {y.item():.2f}] \\t [gradient of x & y: {x.grad.item():.2f}, {y.grad.item():.2f}] \\t [x^2 + y^2 = {z:.2f}]       ',\n",
        "    end='\\r')\n",
        "    time.sleep(.1)"
      ]
    },
    {
      "cell_type": "markdown",
      "metadata": {
        "id": "9mNNwzlAS_Jb"
      },
      "source": [
        "### Spliting the data and preparing for training"
      ]
    },
    {
      "cell_type": "markdown",
      "metadata": {
        "id": "-2RHCvlRSlHP"
      },
      "source": [
        "Since the original ``AG_NEWS`` has no valid dataset, we split the training\n",
        "dataset into train/valid sets with a split ratio of 0.95 (train) and\n",
        "0.05 (valid). Here we use\n",
        "[torch.utils.data.dataset.random_split](https://pytorch.org/docs/stable/data.html?highlight=random_split#torch.utils.data.random_split)\n",
        "function in PyTorch core library.\n",
        "\n",
        "[CrossEntropyLoss](https://pytorch.org/docs/stable/nn.html?highlight=crossentropyloss#torch.nn.CrossEntropyLoss)\n",
        "criterion combines ``nn.LogSoftmax()`` and ``nn.NLLLoss()`` in a single class.\n",
        "It is useful when training a classification problem with C classes.\n",
        "[SGD](https://pytorch.org/docs/stable/_modules/torch/optim/sgd.html)\n",
        "implements stochastic gradient descent method as the optimizer. The initial\n",
        "learning rate is set to 5.0.\n",
        "[StepLR](https://pytorch.org/docs/master/_modules/torch/optim/lr_scheduler.html#StepLR)\n",
        "is used here to adjust the learning rate through epochs."
      ]
    },
    {
      "cell_type": "code",
      "execution_count": 39,
      "metadata": {
        "id": "_2X0IBohSizi"
      },
      "outputs": [],
      "source": [
        "from torch.utils.data.dataset import random_split\n",
        "from torchtext.data.functional import to_map_style_dataset\n",
        "\n",
        "# Hyperparameters\n",
        "EPOCHS = 5  # epoch\n",
        "LR = 5  # learning rate\n",
        "BATCH_SIZE = 64  # batch size for training\n",
        "\n",
        "criterion = torch.nn.CrossEntropyLoss()\n",
        "optimizer = torch.optim.SGD(model.parameters(), lr=LR)\n",
        "scheduler = torch.optim.lr_scheduler.StepLR(optimizer, 1.0, gamma=0.1)\n",
        "\n",
        "total_accu = None\n",
        "train_iter, test_iter = AG_NEWS()\n",
        "train_dataset = to_map_style_dataset(train_iter)\n",
        "test_dataset = to_map_style_dataset(test_iter)\n",
        "\n",
        "split_train_, split_valid_ = random_split(train_dataset, [0.95, 0.05])\n",
        "\n",
        "train_dataloader = DataLoader(\n",
        "    split_train_, batch_size=BATCH_SIZE, shuffle=True, collate_fn=collate_batch\n",
        ")\n",
        "valid_dataloader = DataLoader(\n",
        "    split_valid_, batch_size=BATCH_SIZE, shuffle=True, collate_fn=collate_batch\n",
        ")\n",
        "test_dataloader = DataLoader(\n",
        "    test_dataset, batch_size=BATCH_SIZE, shuffle=True, collate_fn=collate_batch\n",
        ")"
      ]
    },
    {
      "cell_type": "code",
      "execution_count": 40,
      "metadata": {
        "colab": {
          "base_uri": "https://localhost:8080/"
        },
        "id": "V_rmYbIwcLPA",
        "outputId": "d22f31d8-143d-4c2b-f28e-8b02dff58405"
      },
      "outputs": [
        {
          "output_type": "stream",
          "name": "stdout",
          "text": [
            "1782, 94, 119\n"
          ]
        }
      ],
      "source": [
        "print(f'{len(train_dataloader)}, {len(valid_dataloader)}, {len(test_dataloader)}')"
      ]
    },
    {
      "cell_type": "markdown",
      "metadata": {
        "id": "USlGkrG-Rmdr"
      },
      "source": [
        "### Lets create optimization loop"
      ]
    },
    {
      "cell_type": "markdown",
      "metadata": {
        "id": "a6cmRPUPSSa5"
      },
      "source": [
        "Lets fill the missing parts of the training loop. Then run the next code block to test your code and train your model."
      ]
    },
    {
      "cell_type": "code",
      "execution_count": 41,
      "metadata": {
        "id": "k3fIPvijuRsO"
      },
      "outputs": [],
      "source": [
        "def train(dataloader):\n",
        "    model.train()\n",
        "    total_acc, total_count = 0, 0\n",
        "    log_interval = 500\n",
        "    start_time = time.time()\n",
        "\n",
        "    for idx, (label, text, offsets) in enumerate(dataloader):\n",
        "        ##########################\n",
        "        #call zero_grad, the model (with text and offset) and the calculate the gradients\n",
        "        optimizer.zero_grad()\n",
        "        predicted_label = model(text, offsets)\n",
        "        loss = criterion(predicted_label, label)\n",
        "        loss.backward()\n",
        "        ############\n",
        "        torch.nn.utils.clip_grad_norm_(model.parameters(), 0.1) ## To prevent expoding gradient\n",
        "        ############\n",
        "        ## call optimizer step function\n",
        "        optimizer.step()\n",
        "        ############\n",
        "        total_acc += (predicted_label.argmax(1) == label).sum().item()\n",
        "        total_count += label.size(0)\n",
        "        if idx % log_interval == 0 and idx > 0:\n",
        "            elapsed = time.time() - start_time\n",
        "            print(\n",
        "                \"| epoch {:3d} | {:5d}/{:5d} batches \"\n",
        "                \"| accuracy {:8.3f}\".format(\n",
        "                    epoch, idx, len(dataloader), total_acc / total_count\n",
        "                )\n",
        "            )\n",
        "            total_acc, total_count = 0, 0\n",
        "            start_time = time.time()\n",
        "\n",
        "\n",
        "def evaluate(dataloader):\n",
        "    model.eval()\n",
        "    total_acc, total_count = 0, 0\n",
        "\n",
        "    with torch.no_grad():\n",
        "        for idx, (label, text, offsets) in enumerate(dataloader):\n",
        "            predicted_label = model(text, offsets)\n",
        "            loss = criterion(predicted_label, label)\n",
        "            total_acc += (predicted_label.argmax(1) == label).sum().item()\n",
        "            total_count += label.size(0)\n",
        "    return total_acc / total_count"
      ]
    },
    {
      "cell_type": "markdown",
      "metadata": {
        "id": "S3ydxz4hR0mg"
      },
      "source": [
        "The functions above defined the training and evaluation loops. Now we can write another loop for the epochs. This is one of the rare cases where writing double loops isn't frowned upon!\n"
      ]
    },
    {
      "cell_type": "code",
      "execution_count": 42,
      "metadata": {
        "colab": {
          "base_uri": "https://localhost:8080/"
        },
        "id": "xWvS-O5fuRsO",
        "outputId": "65f787a7-64d9-4195-b599-e0208c98f929"
      },
      "outputs": [
        {
          "output_type": "stream",
          "name": "stdout",
          "text": [
            "| epoch   1 |   500/ 1782 batches | accuracy    0.683\n",
            "| epoch   1 |  1000/ 1782 batches | accuracy    0.854\n",
            "| epoch   1 |  1500/ 1782 batches | accuracy    0.876\n",
            "-----------------------------------------------------------\n",
            "| end of epoch   1 | time:  9.75s | valid accuracy    0.884 \n",
            "-----------------------------------------------------------\n",
            "| epoch   2 |   500/ 1782 batches | accuracy    0.896\n",
            "| epoch   2 |  1000/ 1782 batches | accuracy    0.901\n",
            "| epoch   2 |  1500/ 1782 batches | accuracy    0.906\n",
            "-----------------------------------------------------------\n",
            "| end of epoch   2 | time:  9.60s | valid accuracy    0.900 \n",
            "-----------------------------------------------------------\n",
            "| epoch   3 |   500/ 1782 batches | accuracy    0.916\n",
            "| epoch   3 |  1000/ 1782 batches | accuracy    0.914\n",
            "| epoch   3 |  1500/ 1782 batches | accuracy    0.914\n",
            "-----------------------------------------------------------\n",
            "| end of epoch   3 | time:  9.47s | valid accuracy    0.885 \n",
            "-----------------------------------------------------------\n",
            "| epoch   4 |   500/ 1782 batches | accuracy    0.928\n",
            "| epoch   4 |  1000/ 1782 batches | accuracy    0.929\n",
            "| epoch   4 |  1500/ 1782 batches | accuracy    0.931\n",
            "-----------------------------------------------------------\n",
            "| end of epoch   4 | time:  9.58s | valid accuracy    0.905 \n",
            "-----------------------------------------------------------\n",
            "| epoch   5 |   500/ 1782 batches | accuracy    0.930\n",
            "| epoch   5 |  1000/ 1782 batches | accuracy    0.932\n",
            "| epoch   5 |  1500/ 1782 batches | accuracy    0.930\n",
            "-----------------------------------------------------------\n",
            "| end of epoch   5 | time:  9.54s | valid accuracy    0.907 \n",
            "-----------------------------------------------------------\n"
          ]
        }
      ],
      "source": [
        "for epoch in range(1, EPOCHS + 1):\n",
        "    epoch_start_time = time.time()\n",
        "    train(train_dataloader)\n",
        "    accu_val = evaluate(valid_dataloader)\n",
        "    if total_accu is not None and total_accu > accu_val:\n",
        "        scheduler.step()\n",
        "    else:\n",
        "        total_accu = accu_val\n",
        "    print(\"-\" * 59)\n",
        "    print(\n",
        "        \"| end of epoch {:3d} | time: {:5.2f}s | \"\n",
        "        \"valid accuracy {:8.3f} \".format(\n",
        "            epoch, time.time() - epoch_start_time, accu_val\n",
        "        )\n",
        "    )\n",
        "    print(\"-\" * 59)"
      ]
    },
    {
      "cell_type": "markdown",
      "metadata": {
        "id": "bme6SkyfuRsP"
      },
      "source": [
        "Checking the results of the test dataset…\n",
        "\n"
      ]
    },
    {
      "cell_type": "code",
      "execution_count": 43,
      "metadata": {
        "colab": {
          "base_uri": "https://localhost:8080/"
        },
        "id": "-GIlgeQkuRsP",
        "outputId": "0d202572-d55d-4395-acb1-6fa92ad990b1"
      },
      "outputs": [
        {
          "output_type": "stream",
          "name": "stdout",
          "text": [
            "Test accuracy: 90.342%\n"
          ]
        }
      ],
      "source": [
        "accu_test = evaluate(test_dataloader)\n",
        "print(f'Test accuracy: {accu_test:.3%}')"
      ]
    },
    {
      "cell_type": "markdown",
      "metadata": {
        "id": "NSUYoSDkuRsP"
      },
      "source": [
        "Use the best model so far and test a golf news.\n",
        "\n",
        "\n"
      ]
    },
    {
      "cell_type": "code",
      "execution_count": 47,
      "metadata": {
        "colab": {
          "base_uri": "https://localhost:8080/"
        },
        "id": "Sg3OjuipuRsP",
        "outputId": "38fb46c0-eab0-439b-f21c-6047f4fcd42c"
      },
      "outputs": [
        {
          "output_type": "stream",
          "name": "stdout",
          "text": [
            "This is a Sports article according to our model. (Confidence: 91.20%)\n"
          ]
        }
      ],
      "source": [
        "ag_news_label = {1: \"World\", 2: \"Sports\", 3: \"Business\", 4: \"Sci/Tec\"}\n",
        "\n",
        "\n",
        "def predict(text, text_pipeline):\n",
        "    model.eval()\n",
        "    with torch.no_grad():\n",
        "        text = torch.tensor(text_pipeline(text))\n",
        "        output = model(text, torch.tensor([0]))\n",
        "        pred = output.argmax(1).item()\n",
        "\n",
        "        soft = torch.nn.Softmax(dim=-1)\n",
        "        probs = soft(output).squeeze()\n",
        "        return pred+1, probs[pred].item()\n",
        "    model.train()\n",
        "\n",
        "\n",
        "ex_text_str = \"MEMPHIS, Tenn. – Four days ago, Jon Rahm was \\\n",
        "    enduring the season’s worst weather conditions on Sunday at The \\\n",
        "    Open on his way to a closing 75 at Royal Portrush, which \\\n",
        "    considering the wind and the rain was a respectable showing. \\\n",
        "    Thursday’s first round at the WGC-FedEx St. Jude Invitational \\\n",
        "    was another story. With temperatures in the mid-80s and hardly any \\\n",
        "    wind, the Spaniard was 13 strokes better in a flawless round. \\\n",
        "    Thanks to his best putting performance on the PGA Tour, Rahm \\\n",
        "    finished with an 8-under 62 for a three-stroke lead, which \\\n",
        "    was even more impressive considering he’d never played the \\\n",
        "    front nine at TPC Southwind.\"\n",
        "\n",
        "model = model.to(\"cpu\")\n",
        "\n",
        "_pred, _prob = predict(ex_text_str, text_pipeline)\n",
        "\n",
        "print(f'This is a {ag_news_label[_pred]} article according to our model. (Confidence: {_prob:.2%})')"
      ]
    },
    {
      "cell_type": "code",
      "source": [
        "other_ex = \"Hurricane Otis ripped across Mexico’s southern Pacific coast as a powerful Category 5 \\\n",
        "storm early Wednesday, tearing through buildings in the resort city of Acapulco, sending \\\n",
        "sheets of earth down steep mountainsides and leaving large swaths of the southwestern \\\n",
        "state of Guerrero without power or cellphone service. While little is known about \\\n",
        "possible deaths or the full extent of the damage — the main highway into Acapulco \\\n",
        "was impassable — experts are calling Otis the strongest storm in history to make \\\n",
        "landfall along the Eastern Pacific Coast.\"\n",
        "\n",
        "_pred, _prob = predict(other_ex, text_pipeline)\n",
        "\n",
        "print(f'This is a {ag_news_label[_pred]} article according to our model. (Confidence: {_prob:.2%})')"
      ],
      "metadata": {
        "colab": {
          "base_uri": "https://localhost:8080/"
        },
        "id": "3U3nPghkdM9j",
        "outputId": "b146273e-036c-42ce-d720-addf5008e434"
      },
      "execution_count": 48,
      "outputs": [
        {
          "output_type": "stream",
          "name": "stdout",
          "text": [
            "This is a Sci/Tec article according to our model. (Confidence: 65.27%)\n"
          ]
        }
      ]
    }
  ],
  "metadata": {
    "accelerator": "GPU",
    "colab": {
      "gpuType": "T4",
      "provenance": [],
      "include_colab_link": true
    },
    "kernelspec": {
      "display_name": "Python 3",
      "name": "python3"
    },
    "language_info": {
      "codemirror_mode": {
        "name": "ipython",
        "version": 3
      },
      "file_extension": ".py",
      "mimetype": "text/x-python",
      "name": "python",
      "nbconvert_exporter": "python",
      "pygments_lexer": "ipython3",
      "version": "3.10.12"
    }
  },
  "nbformat": 4,
  "nbformat_minor": 0
}
